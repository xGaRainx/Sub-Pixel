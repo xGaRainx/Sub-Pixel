{
  "cells": [
    {
      "cell_type": "markdown",
      "metadata": {
        "id": "view-in-github",
        "colab_type": "text"
      },
      "source": [
        "<a href=\"https://colab.research.google.com/github/xGaRainx/Sub-Pixel/blob/main/run.ipynb\" target=\"_parent\"><img src=\"https://colab.research.google.com/assets/colab-badge.svg\" alt=\"Open In Colab\"/></a>"
      ]
    },
    {
      "cell_type": "code",
      "execution_count": 4,
      "metadata": {
        "colab": {
          "base_uri": "https://localhost:8080/"
        },
        "id": "VMNEC1q4iAJ6",
        "outputId": "485ef1c1-dfe1-467a-8356-c62acaec9e86"
      },
      "outputs": [
        {
          "output_type": "stream",
          "name": "stdout",
          "text": [
            "Drive already mounted at /content/drive/; to attempt to forcibly remount, call drive.mount(\"/content/drive/\", force_remount=True).\n"
          ]
        }
      ],
      "source": [
        "from google.colab import drive\n",
        "drive.mount('/content/drive/')"
      ]
    },
    {
      "cell_type": "code",
      "execution_count": null,
      "metadata": {
        "id": "lQU6QUnei2mm"
      },
      "outputs": [],
      "source": [
        "!pip3 install scanpy\n",
        "!pip3 install bioinfokit\n",
        "!pip3 install matplotlib"
      ]
    },
    {
      "cell_type": "code",
      "execution_count": 5,
      "metadata": {
        "colab": {
          "base_uri": "https://localhost:8080/",
          "height": 35
        },
        "id": "Ox_3WhxgjIgS",
        "outputId": "e870b6be-5996-4770-8b60-81b2db2c02d9"
      },
      "outputs": [
        {
          "output_type": "execute_result",
          "data": {
            "text/plain": [
              "'/content/drive/My Drive/paddle'"
            ],
            "application/vnd.google.colaboratory.intrinsic+json": {
              "type": "string"
            }
          },
          "metadata": {},
          "execution_count": 5
        }
      ],
      "source": [
        "import os\n",
        "os.chdir('/content/drive/My Drive/paddle')\n",
        "os.getcwd()"
      ]
    },
    {
      "cell_type": "code",
      "source": [
        "!python3 subpixel.py"
      ],
      "metadata": {
        "colab": {
          "base_uri": "https://localhost:8080/"
        },
        "id": "u8c4SSr-eFOX",
        "outputId": "c6bdb1d7-aa41-409b-a3ee-6bee1a59d852"
      },
      "execution_count": 11,
      "outputs": [
        {
          "output_type": "stream",
          "name": "stdout",
          "text": [
            "2.4.1\n",
            "=============train dataset=============\n",
            "<PIL.Image.Image image mode=L size=100x100 at 0x7F0F6EA546A0>\n",
            "(100, 100)\n",
            "<PIL.Image.Image image mode=L size=300x300 at 0x7F0F6E9D6E50>\n",
            "(300, 300)\n",
            "---------------------------------------------------------------------------\n",
            " Layer (type)       Input Shape          Output Shape         Param #    \n",
            "===========================================================================\n",
            "   Conv2D-1      [[1, 1, 100, 100]]   [1, 64, 100, 100]        1,664     \n",
            "   Conv2D-2     [[1, 64, 100, 100]]   [1, 64, 100, 100]       36,928     \n",
            "   Conv2D-3     [[1, 64, 100, 100]]   [1, 32, 100, 100]       18,464     \n",
            "   Conv2D-4     [[1, 32, 100, 100]]    [1, 9, 100, 100]        2,601     \n",
            "===========================================================================\n",
            "Total params: 59,657\n",
            "Trainable params: 59,657\n",
            "Non-trainable params: 0\n",
            "---------------------------------------------------------------------------\n",
            "Input size (MB): 0.04\n",
            "Forward/backward pass size (MB): 12.89\n",
            "Params size (MB): 0.23\n",
            "Estimated Total Size (MB): 13.16\n",
            "---------------------------------------------------------------------------\n",
            "\n",
            "The loss value printed in the log is the current step, and the metric is the average value of previous steps.\n",
            "Epoch 1/20\n",
            "step 13/13 [==============================] - loss: 0.2022 - 2s/step          \n",
            "Epoch 2/20\n",
            "step 13/13 [==============================] - loss: 0.0698 - 2s/step          \n",
            "Epoch 3/20\n",
            "step 13/13 [==============================] - loss: 0.0450 - 2s/step          \n",
            "Epoch 4/20\n",
            "step 13/13 [==============================] - loss: 0.0315 - 2s/step          \n",
            "Epoch 5/20\n",
            "step 13/13 [==============================] - loss: 0.0245 - 2s/step          \n",
            "Epoch 6/20\n",
            "step 13/13 [==============================] - loss: 0.0159 - 2s/step          \n",
            "Epoch 7/20\n",
            "step 13/13 [==============================] - loss: 0.0186 - 2s/step          \n",
            "Epoch 8/20\n",
            "step 13/13 [==============================] - loss: 0.0139 - 2s/step          \n",
            "Epoch 9/20\n",
            "step 13/13 [==============================] - loss: 0.0116 - 2s/step          \n",
            "Epoch 10/20\n",
            "step 13/13 [==============================] - loss: 0.0083 - 2s/step          \n",
            "Epoch 11/20\n",
            "step 13/13 [==============================] - loss: 0.0063 - 2s/step          \n",
            "Epoch 12/20\n",
            "step 13/13 [==============================] - loss: 0.0099 - 2s/step          \n",
            "Epoch 13/20\n",
            "step 13/13 [==============================] - loss: 0.0056 - 2s/step          \n",
            "Epoch 14/20\n",
            "step 13/13 [==============================] - loss: 0.0075 - 2s/step          \n",
            "Epoch 15/20\n",
            "step 13/13 [==============================] - loss: 0.0072 - 2s/step          \n",
            "Epoch 16/20\n",
            "step 13/13 [==============================] - loss: 0.0057 - 2s/step          \n",
            "Epoch 17/20\n",
            "step 13/13 [==============================] - loss: 0.0059 - 3s/step          \n",
            "Epoch 18/20\n",
            "step 13/13 [==============================] - loss: 0.0039 - 3s/step          \n",
            "Epoch 19/20\n",
            "step 13/13 [==============================] - loss: 0.0060 - 2s/step          \n",
            "Epoch 20/20\n",
            "step 13/13 [==============================] - loss: 0.0076 - 2s/step          \n",
            "Predict begin...\n",
            "step 100/100 [==============================] - 42ms/step          \n",
            "Predict samples: 100\n",
            "Predict begin...\n",
            "step 1/1 [==============================] - 61ms/step\n",
            "Predict samples: 1\n",
            "Figure(640x480)\n",
            "Figure(640x480)\n",
            "Figure(640x480)\n",
            "psmr_low: 30.381882136539197 psmr_pre: 26.407008496384236\n"
          ]
        }
      ]
    },
    {
      "cell_type": "code",
      "source": [
        "!wget --no-check-certificate --no-cookies --header \"Cookie: oraclelicense=accept-securebackup-cookie\" http://www.eecs.berkeley.edu/Research/Projects/CS/vision/grouping/BSR/BSR_bsds500.tgz\n",
        "!tar -zxvf BSR_bsds500.tgz"
      ],
      "metadata": {
        "id": "mXpJz8j8e9Vj"
      },
      "execution_count": null,
      "outputs": []
    },
    {
      "cell_type": "code",
      "source": [
        "!python -m pip install paddlepaddle==2.4.1"
      ],
      "metadata": {
        "colab": {
          "base_uri": "https://localhost:8080/"
        },
        "id": "Tu0GdpnBeLMl",
        "outputId": "dc9902ad-6210-4428-f81a-d5bd0c9abb29"
      },
      "execution_count": 9,
      "outputs": [
        {
          "output_type": "stream",
          "name": "stdout",
          "text": [
            "Looking in indexes: https://pypi.org/simple, https://us-python.pkg.dev/colab-wheels/public/simple/\n",
            "Collecting paddlepaddle==2.4.1\n",
            "  Downloading paddlepaddle-2.4.1-cp38-cp38-manylinux1_x86_64.whl (121.6 MB)\n",
            "\u001b[2K     \u001b[90m━━━━━━━━━━━━━━━━━━━━━━━━━━━━━━━━━━━━━━━\u001b[0m \u001b[32m121.6/121.6 MB\u001b[0m \u001b[31m9.7 MB/s\u001b[0m eta \u001b[36m0:00:00\u001b[0m\n",
            "\u001b[?25hRequirement already satisfied: opt-einsum==3.3.0 in /usr/local/lib/python3.8/dist-packages (from paddlepaddle==2.4.1) (3.3.0)\n",
            "Requirement already satisfied: decorator in /usr/local/lib/python3.8/dist-packages (from paddlepaddle==2.4.1) (4.4.2)\n",
            "Requirement already satisfied: numpy>=1.13 in /usr/local/lib/python3.8/dist-packages (from paddlepaddle==2.4.1) (1.21.6)\n",
            "Requirement already satisfied: requests>=2.20.0 in /usr/local/lib/python3.8/dist-packages (from paddlepaddle==2.4.1) (2.25.1)\n",
            "Requirement already satisfied: protobuf<=3.20.0,>=3.1.0 in /usr/local/lib/python3.8/dist-packages (from paddlepaddle==2.4.1) (3.19.6)\n",
            "Collecting paddle-bfloat==0.1.7\n",
            "  Downloading paddle_bfloat-0.1.7-cp38-cp38-manylinux_2_17_x86_64.manylinux2014_x86_64.whl (385 kB)\n",
            "\u001b[2K     \u001b[90m━━━━━━━━━━━━━━━━━━━━━━━━━━━━━━━━━━━━━━\u001b[0m \u001b[32m385.5/385.5 KB\u001b[0m \u001b[31m42.6 MB/s\u001b[0m eta \u001b[36m0:00:00\u001b[0m\n",
            "\u001b[?25hRequirement already satisfied: Pillow in /usr/local/lib/python3.8/dist-packages (from paddlepaddle==2.4.1) (7.1.2)\n",
            "Requirement already satisfied: astor in /usr/local/lib/python3.8/dist-packages (from paddlepaddle==2.4.1) (0.8.1)\n",
            "Requirement already satisfied: six in /usr/local/lib/python3.8/dist-packages (from paddlepaddle==2.4.1) (1.15.0)\n",
            "Requirement already satisfied: idna<3,>=2.5 in /usr/local/lib/python3.8/dist-packages (from requests>=2.20.0->paddlepaddle==2.4.1) (2.10)\n",
            "Requirement already satisfied: urllib3<1.27,>=1.21.1 in /usr/local/lib/python3.8/dist-packages (from requests>=2.20.0->paddlepaddle==2.4.1) (1.24.3)\n",
            "Requirement already satisfied: chardet<5,>=3.0.2 in /usr/local/lib/python3.8/dist-packages (from requests>=2.20.0->paddlepaddle==2.4.1) (4.0.0)\n",
            "Requirement already satisfied: certifi>=2017.4.17 in /usr/local/lib/python3.8/dist-packages (from requests>=2.20.0->paddlepaddle==2.4.1) (2022.12.7)\n",
            "Installing collected packages: paddle-bfloat, paddlepaddle\n",
            "Successfully installed paddle-bfloat-0.1.7 paddlepaddle-2.4.1\n"
          ]
        }
      ]
    }
  ],
  "metadata": {
    "colab": {
      "provenance": [],
      "authorship_tag": "ABX9TyOG6fRttQrYsvxABq8wIZJm",
      "include_colab_link": true
    },
    "kernelspec": {
      "display_name": "Python 3",
      "name": "python3"
    },
    "language_info": {
      "name": "python"
    },
    "accelerator": "GPU",
    "gpuClass": "standard"
  },
  "nbformat": 4,
  "nbformat_minor": 0
}